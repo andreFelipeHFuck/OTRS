{
  "cells": [
    {
      "cell_type": "code",
      "execution_count": 1,
      "metadata": {
        "colab": {
          "base_uri": "https://localhost:8080/"
        },
        "id": "d1XwH0rgA_2d",
        "outputId": "a8aea794-49eb-480d-ceb1-166fc260d27c"
      },
      "outputs": [],
      "source": [
        "# !git clone https://github.com/andreFelipeHFuck/OTRS.git"
      ]
    },
    {
      "cell_type": "code",
      "execution_count": 2,
      "metadata": {
        "id": "8ZSap90wCuMa"
      },
      "outputs": [],
      "source": [
        "import numpy as np\n",
        "import cv2"
      ]
    },
    {
      "cell_type": "code",
      "execution_count": 3,
      "metadata": {
        "colab": {
          "base_uri": "https://localhost:8080/",
          "height": 277
        },
        "id": "Y3jqhQCvFjWK",
        "outputId": "bd1d521b-6668-46c8-97a2-8a6ef397592e"
      },
      "outputs": [
        {
          "name": "stderr",
          "output_type": "stream",
          "text": [
            "Qt: Session management error: None of the authentication protocols specified are supported\n"
          ]
        }
      ],
      "source": [
        "img = cv2.imread(\"./OTRS/images/picture49.jpg\")\n",
        "cv2.imshow('Image', img)\n",
        "cv2.waitKey(0)\n",
        "cv2.destroyAllWindows()"
      ]
    },
    {
      "cell_type": "code",
      "execution_count": 4,
      "metadata": {
        "id": "ta4VUMoeC_0o"
      },
      "outputs": [],
      "source": [
        "gray = cv2.cvtColor(img, cv2.COLOR_BGR2GRAY)\n",
        "cv2.imshow('Image', gray)\n",
        "cv2.waitKey(0)\n",
        "cv2.destroyAllWindows()"
      ]
    },
    {
      "cell_type": "code",
      "execution_count": 5,
      "metadata": {
        "id": "g_jOvJoJDv3y"
      },
      "outputs": [],
      "source": [
        "# Redimensionando a imagem para\n",
        "\n",
        "size = (320, 240)\n",
        "img_resize = cv2.resize(gray, size)\n",
        "cv2.imshow('Image', img_resize)\n",
        "cv2.waitKey(0)\n",
        "cv2.destroyAllWindows()"
      ]
    },
    {
      "cell_type": "code",
      "execution_count": 6,
      "metadata": {
        "colab": {
          "base_uri": "https://localhost:8080/",
          "height": 277
        },
        "id": "RCfEiVB-EkQ0",
        "outputId": "cab2d453-95d0-4b32-fe85-029eb981e3e7"
      },
      "outputs": [],
      "source": [
        "# gray_esp32 = cv2.cvtColor(img_esp32, cv2.COLOR_BGR2GRAY)\n",
        "# cv2.imshow(gray_esp32)"
      ]
    },
    {
      "cell_type": "code",
      "execution_count": 7,
      "metadata": {
        "colab": {
          "base_uri": "https://localhost:8080/",
          "height": 277
        },
        "id": "w4i-cAMAGc34",
        "outputId": "945f0c8f-0603-45ed-bc46-967f91e19959"
      },
      "outputs": [],
      "source": [
        "# Rotacionar a imagem\n",
        "\n",
        "(h, w) = gray.shape[:2]\n",
        "\n",
        "center = (w // 2, h // 2)\n",
        "\n",
        "angle = 20\n",
        "\n",
        "scale = 1.0\n",
        "\n",
        "#  Matriz de rotação\n",
        "\n",
        "M = cv2.getRotationMatrix2D(center, angle, scale)\n",
        "\n",
        "rotated_image = cv2.warpAffine(gray, M, (w, h))\n",
        "\n",
        "cv2.imshow('Image', rotated_image)\n",
        "cv2.waitKey(0)\n",
        "cv2.destroyAllWindows()"
      ]
    },
    {
      "cell_type": "markdown",
      "metadata": {
        "id": "omRv62sII3WJ"
      },
      "source": [
        "# Algoritmo de processamento de imagem\n",
        "\n",
        "Baseada no artigo: Dispositivo IoT para monitorar indicador de\n",
        "pressão através de processamento de imagem, na seção 3.2 é descrito o algoritmo utilizado para processar as imagem para obter os resultados de pressão do manometro. São descritos 7 passos para tratar a imagem antes do cálculo do ponteiro.\n"
      ]
    },
    {
      "cell_type": "markdown",
      "metadata": {
        "id": "3g4uOf7RKeeE"
      },
      "source": [
        "## Passo 1:\n",
        "\n",
        "Definir a região de interesse (ROI - \"Region of interest\"), no caso do artigo a região de interesse é o centro da foto. Criando uma imagem com a dimensão de 120x120 pixels."
      ]
    },
    {
      "cell_type": "code",
      "execution_count": 8,
      "metadata": {
        "colab": {
          "base_uri": "https://localhost:8080/",
          "height": 127
        },
        "id": "vOmEQuQ0LrWe",
        "outputId": "515da2fc-0706-4356-f5d7-9fc0eea8aa4c"
      },
      "outputs": [],
      "source": [
        "x1, y1 = 107, 80   # 100, 100\n",
        "x2, y2 = 207, 170  # 220, 220\n",
        "\n",
        "crop_image = rotated_image[y1:y2, x1:x2]\n",
        "\n",
        "cv2.imshow('Image', crop_image)\n",
        "cv2.waitKey(0)\n",
        "cv2.destroyAllWindows()"
      ]
    },
    {
      "cell_type": "markdown",
      "metadata": {
        "id": "5ncp1CkxRqDq"
      },
      "source": [
        "## Passo 2:\n",
        "\n",
        "Segmentação para retirar a cor da imagem, ou seja, transformar a imagem em tons de cinza. Esse passo foi feito já na abertura da imagem.**negrito**"
      ]
    },
    {
      "cell_type": "markdown",
      "metadata": {
        "id": "wlUIBLOoSLNn"
      },
      "source": [
        "## Passo 3:\n",
        "\n",
        "Equalização do histograma, atenua o contraste da imagem, evidenciando a diferença entre as partes claras e **escuras**"
      ]
    },
    {
      "cell_type": "markdown",
      "metadata": {
        "id": "CpH2-zlfUf5e"
      },
      "source": [
        "## Passo 4:\n",
        "\n",
        "Thresholding é processo de transformar a imagem em uma imagem binária, fazendo com que o pixel seja completamente branco ou completamente preto.\n",
        "\n",
        "Para que as letras e outras marcações não estejam presentes na imagem binária é preciso utilizar um filtro linear na imagem antes de realizar um thresholding"
      ]
    },
    {
      "cell_type": "code",
      "execution_count": 9,
      "metadata": {
        "colab": {
          "base_uri": "https://localhost:8080/",
          "height": 127
        },
        "id": "RVjCgVPaUNdw",
        "outputId": "0b60cb4b-7150-44c0-ab22-8c63292090a8"
      },
      "outputs": [],
      "source": [
        "# # Filtro de média\n",
        "\n",
        "# blurred_image = cv2.blur(crop_image, (5, 5))\n",
        "# cv2.imshow('Image', blurred_image)\n",
        "# cv2.waitKey(0)\n",
        "# cv2.destroyAllWindows()"
      ]
    },
    {
      "cell_type": "code",
      "execution_count": 10,
      "metadata": {
        "colab": {
          "base_uri": "https://localhost:8080/",
          "height": 127
        },
        "id": "mfaK-ge_OktV",
        "outputId": "570b9a5d-1ebb-43f6-ec2d-5e93343e998d"
      },
      "outputs": [],
      "source": [
        "# equalise_image = cv2.equalizeHist(blurred_image)\n",
        "# cv2.imshow('Image', equalise_image)\n",
        "# cv2.waitKey(0)\n",
        "# cv2.destroyAllWindows()"
      ]
    },
    {
      "cell_type": "code",
      "execution_count": 11,
      "metadata": {
        "colab": {
          "base_uri": "https://localhost:8080/",
          "height": 127
        },
        "id": "kE99T5gXWzQT",
        "outputId": "e14f6fac-93a4-4b2f-ec1d-2421f73287ae"
      },
      "outputs": [],
      "source": [
        "# _, thresh_image = cv2.threshold(blurred_image, 99, 255, cv2.THRESH_BINARY + cv2.THRESH_OTSU)\n",
        "\n",
        "# cv2.imshow('Image', thresh_image)\n",
        "# cv2.waitKey(0)\n",
        "# cv2.destroyAllWindows()"
      ]
    },
    {
      "cell_type": "code",
      "execution_count": 12,
      "metadata": {
        "colab": {
          "base_uri": "https://localhost:8080/",
          "height": 127
        },
        "id": "phXQPsWVXpap",
        "outputId": "bf20ea5d-4843-4824-e850-aab6a69367c3"
      },
      "outputs": [],
      "source": [
        "# Filtro gaussiano\n",
        "\n",
        "gaussian_blurred_image = cv2.GaussianBlur(crop_image, (5, 5), 0)\n",
        "cv2.imshow('Image', gaussian_blurred_image)\n",
        "cv2.waitKey(0)\n",
        "cv2.destroyAllWindows()"
      ]
    },
    {
      "cell_type": "code",
      "execution_count": 13,
      "metadata": {
        "colab": {
          "base_uri": "https://localhost:8080/",
          "height": 127
        },
        "id": "LCUmBrKVYbQC",
        "outputId": "db4a5bb9-089c-4a7d-f653-11924af3714c"
      },
      "outputs": [],
      "source": [
        "_, gaussian_thresh_image = cv2.threshold(gaussian_blurred_image, 107, 255, cv2.THRESH_BINARY)\n",
        "\n",
        "cv2.imshow('Image', gaussian_thresh_image)\n",
        "cv2.waitKey(0)\n",
        "cv2.destroyAllWindows()"
      ]
    },
    {
      "cell_type": "code",
      "execution_count": 14,
      "metadata": {
        "colab": {
          "base_uri": "https://localhost:8080/",
          "height": 127
        },
        "id": "zPVTaqhWYg9O",
        "outputId": "a3290401-138d-4e07-adba-a87a61921573"
      },
      "outputs": [],
      "source": [
        "# # Filtro de mediano\n",
        "\n",
        "# median_blurred_image = cv2.medianBlur(crop_image, 5)\n",
        "\n",
        "# cv2.imshow('Image', median_blurred_image)\n",
        "# cv2.waitKey(0)\n",
        "# cv2.destroyAllWindows()"
      ]
    },
    {
      "cell_type": "code",
      "execution_count": 15,
      "metadata": {
        "colab": {
          "base_uri": "https://localhost:8080/",
          "height": 127
        },
        "id": "tFotLQpvZVuy",
        "outputId": "ee793b8a-6ade-4c9a-b2a7-43fff56c77b0"
      },
      "outputs": [],
      "source": [
        "# _, median_thresh_image = cv2.threshold(median_blurred_image, 99, 255, cv2.THRESH_BINARY + cv2.THRESH_OTSU)\n",
        "\n",
        "# cv2.imshow('Image', median_thresh_image)\n",
        "# cv2.waitKey(0)\n",
        "# cv2.destroyAllWindows()"
      ]
    },
    {
      "cell_type": "markdown",
      "metadata": {
        "id": "xnZYdWfcuicM"
      },
      "source": [
        "## Passo 7:\n",
        "\n",
        "Cria um retângulo de área mínima que contempla toda a área preta do ponteiro da *imagem*"
      ]
    },
    {
      "cell_type": "code",
      "execution_count": 16,
      "metadata": {
        "colab": {
          "base_uri": "https://localhost:8080/"
        },
        "id": "tzRMVcLDZgzB",
        "outputId": "1751b891-9743-4f58-bbdf-79b346737c6c"
      },
      "outputs": [
        {
          "data": {
            "text/plain": [
              "(49, 47)"
            ]
          },
          "execution_count": 16,
          "metadata": {},
          "output_type": "execute_result"
        }
      ],
      "source": [
        "# Encontra o retângulo de área mínima\n",
        "\n",
        "black_pixels = np.argwhere(gaussian_thresh_image == 0)\n",
        "\n",
        "if black_pixels.size > 0:\n",
        "  min_y, min_x = np.min(black_pixels, axis=0)\n",
        "  max_y, max_x = np.max(black_pixels, axis=0)\n",
        "\n",
        "  min_rect = cv2.minAreaRect(np.array([(min_x, min_y), (max_x, max_y)]))\n",
        "\n",
        "center, _, _ = min_rect\n",
        "\n",
        "(c_x, c_y) = center\n",
        "\n",
        "(int(c_x), int(c_y))"
      ]
    },
    {
      "cell_type": "code",
      "execution_count": 17,
      "metadata": {
        "colab": {
          "base_uri": "https://localhost:8080/",
          "height": 84
        },
        "id": "yPJekScU2R9E",
        "outputId": "cc22baae-dcdb-4014-fad4-ea29ac17da58"
      },
      "outputs": [],
      "source": [
        "x1, y1 = 0, 0\n",
        "x2, y2 = 49, 47\n",
        "\n",
        "Q1_crop_image = gaussian_thresh_image[y1:y2, x1:x2]\n",
        "\n",
        "cv2.imshow('Image', Q1_crop_image)\n",
        "cv2.waitKey(0)\n",
        "cv2.destroyAllWindows()"
      ]
    },
    {
      "cell_type": "code",
      "execution_count": 18,
      "metadata": {
        "colab": {
          "base_uri": "https://localhost:8080/"
        },
        "id": "uIfeQWPnMKQ6",
        "outputId": "a00a3f3a-3ccb-401d-e990-d9b026de4d90"
      },
      "outputs": [
        {
          "data": {
            "text/plain": [
              "0"
            ]
          },
          "execution_count": 18,
          "metadata": {},
          "output_type": "execute_result"
        }
      ],
      "source": [
        "# Porcentagem de pixels preto na tela\n",
        "\n",
        "white_pixel_count = cv2.countNonZero(Q1_crop_image)\n",
        "total_pixels = Q1_crop_image.size\n",
        "\n",
        "black_pixels_count = total_pixels - white_pixel_count\n",
        "\n",
        "porcent_black_pixels = black_pixels_count / total_pixels\n",
        "\n",
        "int(porcent_black_pixels * 100)"
      ]
    },
    {
      "cell_type": "code",
      "execution_count": 19,
      "metadata": {
        "colab": {
          "base_uri": "https://localhost:8080/",
          "height": 84
        },
        "id": "NaDGHC2L6K7u",
        "outputId": "ef057980-49ab-4bd2-bdcc-2e9522d8b01f"
      },
      "outputs": [],
      "source": [
        "x1, y1 = 49, 0\n",
        "x2, y2 = 99, 47\n",
        "\n",
        "Q2_crop_image = gaussian_thresh_image[y1:y2, x1:x2]\n",
        "\n",
        "cv2.imshow('Image', Q2_crop_image)\n",
        "cv2.waitKey(0)\n",
        "cv2.destroyAllWindows()"
      ]
    },
    {
      "cell_type": "code",
      "execution_count": 20,
      "metadata": {
        "colab": {
          "base_uri": "https://localhost:8080/"
        },
        "id": "fBusMVQSNz5F",
        "outputId": "bb560c8c-f7be-4c54-b7ba-77c91a63d6f6"
      },
      "outputs": [
        {
          "data": {
            "text/plain": [
              "41"
            ]
          },
          "execution_count": 20,
          "metadata": {},
          "output_type": "execute_result"
        }
      ],
      "source": [
        "# Porcentagem de pixels preto na tela\n",
        "\n",
        "white_pixel_count = cv2.countNonZero(Q2_crop_image)\n",
        "total_pixels = Q2_crop_image.size\n",
        "\n",
        "black_pixels_count = total_pixels - white_pixel_count\n",
        "\n",
        "porcent_black_pixels = black_pixels_count / total_pixels\n",
        "\n",
        "int(porcent_black_pixels * 100)"
      ]
    },
    {
      "cell_type": "code",
      "execution_count": 21,
      "metadata": {
        "colab": {
          "base_uri": "https://localhost:8080/",
          "height": 77
        },
        "id": "kbc1DSBAAfLO",
        "outputId": "e1e576fc-dcae-4511-b4d5-b0b4441b2178"
      },
      "outputs": [],
      "source": [
        "x1, y1 = 0, 47   #\n",
        "x2, y2 = 49, 87\n",
        "\n",
        "Q3_crop_image = gaussian_thresh_image[y1:y2, x1:x2]\n",
        "\n",
        "cv2.imshow('Image', Q3_crop_image)\n",
        "cv2.waitKey(0)\n",
        "cv2.destroyAllWindows()"
      ]
    },
    {
      "cell_type": "code",
      "execution_count": 22,
      "metadata": {
        "colab": {
          "base_uri": "https://localhost:8080/"
        },
        "id": "eZfikwxdN-jG",
        "outputId": "d593d8eb-9545-4e37-b939-0a17b850cb28"
      },
      "outputs": [
        {
          "data": {
            "text/plain": [
              "15"
            ]
          },
          "execution_count": 22,
          "metadata": {},
          "output_type": "execute_result"
        }
      ],
      "source": [
        "# Porcentagem de pixels preto na tela\n",
        "\n",
        "white_pixel_count = cv2.countNonZero(Q3_crop_image)\n",
        "total_pixels = Q3_crop_image.size\n",
        "\n",
        "black_pixels_count = total_pixels - white_pixel_count\n",
        "\n",
        "Q3_porcent_black_pixels = black_pixels_count / total_pixels\n",
        "\n",
        "Q3_porcent_black_pixels = int(Q3_porcent_black_pixels * 100)\n",
        "\n",
        "Q3_porcent_black_pixels"
      ]
    },
    {
      "cell_type": "code",
      "execution_count": 23,
      "metadata": {
        "colab": {
          "base_uri": "https://localhost:8080/",
          "height": 77
        },
        "id": "Kyi2KKWjJs0S",
        "outputId": "aa417684-7d9b-48ab-9625-a8ffb564d2b5"
      },
      "outputs": [],
      "source": [
        "x1, y1 = 49, 47\n",
        "x2, y2 = 99, 87\n",
        "\n",
        "Q4_crop_image = gaussian_thresh_image[y1:y2, x1:x2]\n",
        "\n",
        "cv2.imshow('Image', Q4_crop_image)\n",
        "cv2.waitKey(0)\n",
        "cv2.destroyAllWindows()"
      ]
    },
    {
      "cell_type": "code",
      "execution_count": 24,
      "metadata": {
        "colab": {
          "base_uri": "https://localhost:8080/"
        },
        "id": "SUnC4EHvOSwt",
        "outputId": "1e0e1e70-f1a2-491f-9578-57e8ab796bc1"
      },
      "outputs": [
        {
          "data": {
            "text/plain": [
              "11"
            ]
          },
          "execution_count": 24,
          "metadata": {},
          "output_type": "execute_result"
        }
      ],
      "source": [
        "# Porcentagem de pixels preto na tela\n",
        "\n",
        "white_pixel_count = cv2.countNonZero(Q4_crop_image)\n",
        "total_pixels = Q4_crop_image.size\n",
        "\n",
        "black_pixels_count = total_pixels - white_pixel_count\n",
        "\n",
        "Q4_porcent_black_pixels = black_pixels_count / total_pixels\n",
        "\n",
        "Q4_porcent_black_pixels = int(Q4_porcent_black_pixels * 100)\n",
        "\n",
        "Q4_porcent_black_pixels"
      ]
    },
    {
      "cell_type": "code",
      "execution_count": 25,
      "metadata": {
        "colab": {
          "base_uri": "https://localhost:8080/"
        },
        "id": "b7UiITrdKw58",
        "outputId": "3900f244-1b26-4a06-cd1a-fa1c566a875d"
      },
      "outputs": [
        {
          "data": {
            "text/plain": [
              "True"
            ]
          },
          "execution_count": 25,
          "metadata": {},
          "output_type": "execute_result"
        }
      ],
      "source": [
        "Q3_porcent_black_pixels > Q4_porcent_black_pixels"
      ]
    }
  ],
  "metadata": {
    "colab": {
      "provenance": []
    },
    "kernelspec": {
      "display_name": "Python 3",
      "name": "python3"
    },
    "language_info": {
      "codemirror_mode": {
        "name": "ipython",
        "version": 3
      },
      "file_extension": ".py",
      "mimetype": "text/x-python",
      "name": "python",
      "nbconvert_exporter": "python",
      "pygments_lexer": "ipython3",
      "version": "3.12.3"
    }
  },
  "nbformat": 4,
  "nbformat_minor": 0
}
